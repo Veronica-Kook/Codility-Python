{
 "cells": [
  {
   "cell_type": "markdown",
   "metadata": {},
   "source": [
    "# 1. BinaryGap"
   ]
  },
  {
   "cell_type": "code",
   "execution_count": null,
   "metadata": {},
   "outputs": [],
   "source": [
    "'''\n",
    "\n",
    "A binary gap within a positive integer N is any maximal sequence of consecutive zeros that is surrounded by ones at both ends in the binary representation of N.\n",
    "\n",
    "For example, number 9 has binary representation 1001 and contains a binary gap of length 2. The number 529 has binary representation 1000010001 and contains two binary gaps: one of length 4 and one of length 3. The number 20 has binary representation 10100 and contains one binary gap of length 1. The number 15 has binary representation 1111 and has no binary gaps.\n",
    "\n",
    "Write a function:\n",
    "\n",
    "def solution(N)\n",
    "\n",
    "that, given a positive integer N, returns the length of its longest binary gap. The function should return 0 if N doesn't contain a binary gap.\n",
    "\n",
    "For example, given N = 1041 the function should return 5, because N has binary representation 10000010001 and so its longest binary gap is of length 5.\n",
    "\n",
    "Assume that:\n",
    "\n",
    "N is an integer within the range [1..2,147,483,647].\n",
    "Complexity:\n",
    "\n",
    "expected worst-case time complexity is O(log(N));\n",
    "expected worst-case space complexity is O(1).\n",
    "\n",
    "'''"
   ]
  },
  {
   "cell_type": "markdown",
   "metadata": {},
   "source": [
    "### (1) Make a Decimal number into Binary number"
   ]
  },
  {
   "cell_type": "code",
   "execution_count": 1,
   "metadata": {
    "collapsed": true
   },
   "outputs": [],
   "source": [
    "def binary(N):\n",
    "    \n",
    "    r_lst = []\n",
    "    \n",
    "    while N > 0:\n",
    "        \n",
    "        reminder = N % 2\n",
    "        N = N // 2\n",
    "\n",
    "        r_lst.append(reminder)\n",
    "\n",
    "        if N == 1 or N == 0:\n",
    "            pass\n",
    "        \n",
    "    return r_lst "
   ]
  },
  {
   "cell_type": "markdown",
   "metadata": {},
   "source": [
    "### (2) Counting Zeros"
   ]
  },
  {
   "cell_type": "code",
   "execution_count": 2,
   "metadata": {
    "collapsed": true
   },
   "outputs": [],
   "source": [
    "def many_zeros(lst):\n",
    "    count = 0\n",
    "    count_lst = []\n",
    "    for i in range(len(lst)):\n",
    "        if lst[i] == 0:\n",
    "            count += 1\n",
    "        else:\n",
    "            count_lst.append(count)\n",
    "            count = 0  \n",
    "    return count_lst"
   ]
  },
  {
   "cell_type": "markdown",
   "metadata": {},
   "source": [
    "### (3) Get Final Solution"
   ]
  },
  {
   "cell_type": "code",
   "execution_count": 3,
   "metadata": {
    "collapsed": true
   },
   "outputs": [],
   "source": [
    "def solution(N):\n",
    "    # write your code in Python 3.6\n",
    "    result = binary(N)\n",
    "    result.reverse()\n",
    "    result_lst = many_zeros(result)\n",
    "    print(max(result_lst))\n",
    "    return max(result_lst) "
   ]
  },
  {
   "cell_type": "markdown",
   "metadata": {},
   "source": [
    "### (4) Testing Program"
   ]
  },
  {
   "cell_type": "code",
   "execution_count": 4,
   "metadata": {},
   "outputs": [
    {
     "name": "stdout",
     "output_type": "stream",
     "text": [
      "5\n",
      "1\n",
      "1\n"
     ]
    }
   ],
   "source": [
    "if __name__ == '__main__':\n",
    "    solution(1041)\n",
    "    solution(55)\n",
    "    solution(346)\n",
    "    \n",
    "    '''\n",
    "    The Result will be\n",
    "        5\n",
    "        1\n",
    "        1\n",
    "    '''"
   ]
  },
  {
   "cell_type": "code",
   "execution_count": null,
   "metadata": {
    "collapsed": true
   },
   "outputs": [],
   "source": []
  }
 ],
 "metadata": {
  "kernelspec": {
   "display_name": "Python 3",
   "language": "python",
   "name": "python3"
  },
  "language_info": {
   "codemirror_mode": {
    "name": "ipython",
    "version": 3
   },
   "file_extension": ".py",
   "mimetype": "text/x-python",
   "name": "python",
   "nbconvert_exporter": "python",
   "pygments_lexer": "ipython3",
   "version": "3.6.3"
  }
 },
 "nbformat": 4,
 "nbformat_minor": 2
}
