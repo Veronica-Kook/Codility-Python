{
 "cells": [
  {
   "cell_type": "markdown",
   "metadata": {},
   "source": [
    "# 4. FrogJmp"
   ]
  },
  {
   "cell_type": "code",
   "execution_count": null,
   "metadata": {
    "collapsed": true
   },
   "outputs": [],
   "source": [
    "'''\n",
    "\n",
    "4. FrogJmp\n",
    "\n",
    "A small frog wants to get to the other side of the road. The frog is currently located at position X and wants to get to a position greater than or equal to Y. The small frog always jumps a fixed distance, D.\n",
    "\n",
    "Count the minimal number of jumps that the small frog must perform to reach its target.\n",
    "\n",
    "Write a function:\n",
    "\n",
    "def solution(X, Y, D)\n",
    "\n",
    "that, given three integers X, Y and D, returns the minimal number of jumps from position X to a position equal to or greater than Y.\n",
    "\n",
    "For example, given:\n",
    "\n",
    "  X = 10\n",
    "  Y = 85\n",
    "  D = 30\n",
    "the function should return 3, because the frog will be positioned as follows:\n",
    "\n",
    "after the first jump, at position 10 + 30 = 40\n",
    "after the second jump, at position 10 + 30 + 30 = 70\n",
    "after the third jump, at position 10 + 30 + 30 + 30 = 100\n",
    "Assume that:\n",
    "\n",
    "X, Y and D are integers within the range [1..1,000,000,000];\n",
    "X ≤ Y.\n",
    "Complexity:\n",
    "\n",
    "expected worst-case time complexity is O(1);\n",
    "expected worst-case space complexity is O(1).\n",
    "\n",
    "'''"
   ]
  },
  {
   "cell_type": "markdown",
   "metadata": {},
   "source": [
    "### (1) The Last One Comes First"
   ]
  },
  {
   "cell_type": "code",
   "execution_count": 1,
   "metadata": {
    "collapsed": true
   },
   "outputs": [],
   "source": [
    "def solution(X, Y, D):\n",
    "    # write your code in Python 3.6\n",
    "    \n",
    "    count = 0\n",
    "    \n",
    "    while X < Y:\n",
    "        \n",
    "        X += D\n",
    "        count += 1\n",
    "        \n",
    "        print(\"New X : \", X)\n",
    "        print(\"Move : \", count)\n",
    "    print()\n",
    "        \n",
    "    return count"
   ]
  },
  {
   "cell_type": "markdown",
   "metadata": {},
   "source": [
    "### (2) Testing Program"
   ]
  },
  {
   "cell_type": "code",
   "execution_count": 2,
   "metadata": {},
   "outputs": [
    {
     "name": "stdout",
     "output_type": "stream",
     "text": [
      "New X :  40\n",
      "Move :  1\n",
      "New X :  70\n",
      "Move :  2\n",
      "New X :  100\n",
      "Move :  3\n",
      "\n",
      "New X :  40\n",
      "Move :  1\n",
      "New X :  60\n",
      "Move :  2\n",
      "New X :  80\n",
      "Move :  3\n",
      "New X :  100\n",
      "Move :  4\n",
      "\n",
      "New X :  60\n",
      "Move :  1\n",
      "New X :  70\n",
      "Move :  2\n",
      "New X :  80\n",
      "Move :  3\n",
      "New X :  90\n",
      "Move :  4\n",
      "New X :  100\n",
      "Move :  5\n",
      "\n"
     ]
    }
   ],
   "source": [
    "if __name__ == '__main__':\n",
    "    solution(10,85,30) \n",
    "    solution(20,97,20)\n",
    "    solution(50,99,10)"
   ]
  },
  {
   "cell_type": "code",
   "execution_count": null,
   "metadata": {
    "collapsed": true
   },
   "outputs": [],
   "source": []
  }
 ],
 "metadata": {
  "kernelspec": {
   "display_name": "Python 3",
   "language": "python",
   "name": "python3"
  },
  "language_info": {
   "codemirror_mode": {
    "name": "ipython",
    "version": 3
   },
   "file_extension": ".py",
   "mimetype": "text/x-python",
   "name": "python",
   "nbconvert_exporter": "python",
   "pygments_lexer": "ipython3",
   "version": "3.6.3"
  }
 },
 "nbformat": 4,
 "nbformat_minor": 2
}
